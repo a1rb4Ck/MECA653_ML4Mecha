{
 "cells": [
  {
   "cell_type": "markdown",
   "metadata": {},
   "source": [
    "# 6- Neural Networks\n",
    "- Play with [Andrew Karpathy's ConvnetJS Demo](https://cs.stanford.edu/people/karpathy/convnetjs/demo/classify2d.html)\n",
    "- Play with [TensorFlow Playground](https://playground.tensorflow.org)"
   ]
  },
  {
   "cell_type": "code",
   "execution_count": 1,
   "metadata": {},
   "outputs": [
    {
     "name": "stderr",
     "output_type": "stream",
     "text": [
      "Using TensorFlow backend.\n"
     ]
    }
   ],
   "source": [
    "# Load the dataset\n",
    "from keras.datasets import mnist\n",
    "(x_train, y_train), (x_test, y_test) = mnist.load_data()"
   ]
  },
  {
   "cell_type": "code",
   "execution_count": 2,
   "metadata": {},
   "outputs": [],
   "source": [
    "# Scale images from [0,255] to [0,1]\n",
    "x_train_normalized = x_train / 255.0"
   ]
  },
  {
   "cell_type": "code",
   "execution_count": 3,
   "metadata": {},
   "outputs": [],
   "source": [
    "import matplotlib\n",
    "import matplotlib.pyplot as plt\n",
    "%matplotlib inline\n",
    "# %matplotlib nbagg\n",
    "# %matplotlib ipympl\n",
    "# %matplotlib notebook"
   ]
  },
  {
   "cell_type": "code",
   "execution_count": 4,
   "metadata": {},
   "outputs": [
    {
     "data": {
      "text/plain": [
       "(10000, 28, 28)"
      ]
     },
     "execution_count": 4,
     "metadata": {},
     "output_type": "execute_result"
    }
   ],
   "source": [
    "import numpy as np\n",
    "# Sample a smaller dataset for testing\n",
    "rand_idx = np.random.choice(x_train.shape[0], 10000)\n",
    "x_train = x_train_normalized[rand_idx]\n",
    "y_train = y_train[rand_idx]\n",
    "x_train.shape"
   ]
  },
  {
   "cell_type": "code",
   "execution_count": 5,
   "metadata": {},
   "outputs": [
    {
     "name": "stdout",
     "output_type": "stream",
     "text": [
      "WARNING:tensorflow:From /Users/Pierre/.virtualenvs/DeepQC/lib/python3.6/site-packages/tensorflow/python/framework/op_def_library.py:263: colocate_with (from tensorflow.python.framework.ops) is deprecated and will be removed in a future version.\n",
      "Instructions for updating:\n",
      "Colocations handled automatically by placer.\n"
     ]
    }
   ],
   "source": [
    "# Tensorflow is a CPU/GPU/TPU front and backend computational library\n",
    "# Keras is a higher level API, both developped by Google.\n",
    "import tensorflow as tf\n",
    "import keras\n",
    "fc_model = '** Add your code here **'"
   ]
  },
  {
   "cell_type": "code",
   "execution_count": 6,
   "metadata": {},
   "outputs": [
    {
     "name": "stdout",
     "output_type": "stream",
     "text": [
      "_________________________________________________________________\n",
      "Layer (type)                 Output Shape              Param #   \n",
      "=================================================================\n",
      "flatten_1 (Flatten)          (None, 784)               0         \n",
      "_________________________________________________________________\n",
      "dense_1 (Dense)              (None, 128)               100480    \n",
      "_________________________________________________________________\n",
      "dense_2 (Dense)              (None, 10)                1290      \n",
      "=================================================================\n",
      "Total params: 101,770\n",
      "Trainable params: 101,770\n",
      "Non-trainable params: 0\n",
      "_________________________________________________________________\n"
     ]
    }
   ],
   "source": [
    "# We compile the model as a Tensorflow computational Graph\n",
    "fc_model.compile(optimizer='adam', \n",
    "              loss='sparse_categorical_crossentropy',\n",
    "              metrics=['accuracy'])\n",
    "fc_model.summary()"
   ]
  },
  {
   "cell_type": "code",
   "execution_count": 7,
   "metadata": {},
   "outputs": [
    {
     "data": {
      "image/svg+xml": [
       "<svg height=\"288pt\" viewBox=\"0.00 0.00 272.58 288.00\" width=\"273pt\" xmlns=\"http://www.w3.org/2000/svg\" xmlns:xlink=\"http://www.w3.org/1999/xlink\">\n",
       "<g class=\"graph\" id=\"graph0\" transform=\"scale(1 1) rotate(0) translate(4 284)\">\n",
       "<title>G</title>\n",
       "<polygon fill=\"#ffffff\" points=\"-4,4 -4,-284 268.583,-284 268.583,4 -4,4\" stroke=\"transparent\"/>\n",
       "<!-- 5538431944 -->\n",
       "<g class=\"node\" id=\"node1\">\n",
       "<title>5538431944</title>\n",
       "<polygon fill=\"none\" points=\"0,-162.5 0,-206.5 264.583,-206.5 264.583,-162.5 0,-162.5\" stroke=\"#000000\"/>\n",
       "<text fill=\"#000000\" font-family=\"Times,serif\" font-size=\"14.00\" text-anchor=\"middle\" x=\"55.6328\" y=\"-180.3\">flatten_1: Flatten</text>\n",
       "<polyline fill=\"none\" points=\"111.2656,-162.5 111.2656,-206.5 \" stroke=\"#000000\"/>\n",
       "<text fill=\"#000000\" font-family=\"Times,serif\" font-size=\"14.00\" text-anchor=\"middle\" x=\"139.1001\" y=\"-191.3\">input:</text>\n",
       "<polyline fill=\"none\" points=\"111.2656,-184.5 166.9346,-184.5 \" stroke=\"#000000\"/>\n",
       "<text fill=\"#000000\" font-family=\"Times,serif\" font-size=\"14.00\" text-anchor=\"middle\" x=\"139.1001\" y=\"-169.3\">output:</text>\n",
       "<polyline fill=\"none\" points=\"166.9346,-162.5 166.9346,-206.5 \" stroke=\"#000000\"/>\n",
       "<text fill=\"#000000\" font-family=\"Times,serif\" font-size=\"14.00\" text-anchor=\"middle\" x=\"215.7588\" y=\"-191.3\">(None, 28, 28)</text>\n",
       "<polyline fill=\"none\" points=\"166.9346,-184.5 264.583,-184.5 \" stroke=\"#000000\"/>\n",
       "<text fill=\"#000000\" font-family=\"Times,serif\" font-size=\"14.00\" text-anchor=\"middle\" x=\"215.7588\" y=\"-169.3\">(None, 784)</text>\n",
       "</g>\n",
       "<!-- 5538432056 -->\n",
       "<g class=\"node\" id=\"node2\">\n",
       "<title>5538432056</title>\n",
       "<polygon fill=\"none\" points=\"10.5068,-81.5 10.5068,-125.5 254.0762,-125.5 254.0762,-81.5 10.5068,-81.5\" stroke=\"#000000\"/>\n",
       "<text fill=\"#000000\" font-family=\"Times,serif\" font-size=\"14.00\" text-anchor=\"middle\" x=\"62.6328\" y=\"-99.3\">dense_1: Dense</text>\n",
       "<polyline fill=\"none\" points=\"114.7588,-81.5 114.7588,-125.5 \" stroke=\"#000000\"/>\n",
       "<text fill=\"#000000\" font-family=\"Times,serif\" font-size=\"14.00\" text-anchor=\"middle\" x=\"142.5933\" y=\"-110.3\">input:</text>\n",
       "<polyline fill=\"none\" points=\"114.7588,-103.5 170.4277,-103.5 \" stroke=\"#000000\"/>\n",
       "<text fill=\"#000000\" font-family=\"Times,serif\" font-size=\"14.00\" text-anchor=\"middle\" x=\"142.5933\" y=\"-88.3\">output:</text>\n",
       "<polyline fill=\"none\" points=\"170.4277,-81.5 170.4277,-125.5 \" stroke=\"#000000\"/>\n",
       "<text fill=\"#000000\" font-family=\"Times,serif\" font-size=\"14.00\" text-anchor=\"middle\" x=\"212.252\" y=\"-110.3\">(None, 784)</text>\n",
       "<polyline fill=\"none\" points=\"170.4277,-103.5 254.0762,-103.5 \" stroke=\"#000000\"/>\n",
       "<text fill=\"#000000\" font-family=\"Times,serif\" font-size=\"14.00\" text-anchor=\"middle\" x=\"212.252\" y=\"-88.3\">(None, 128)</text>\n",
       "</g>\n",
       "<!-- 5538431944&#45;&gt;5538432056 -->\n",
       "<g class=\"edge\" id=\"edge2\">\n",
       "<title>5538431944-&gt;5538432056</title>\n",
       "<path d=\"M132.2915,-162.3664C132.2915,-154.1516 132.2915,-144.6579 132.2915,-135.7252\" fill=\"none\" stroke=\"#000000\"/>\n",
       "<polygon fill=\"#000000\" points=\"135.7916,-135.6068 132.2915,-125.6068 128.7916,-135.6069 135.7916,-135.6068\" stroke=\"#000000\"/>\n",
       "</g>\n",
       "<!-- 5538432672 -->\n",
       "<g class=\"node\" id=\"node3\">\n",
       "<title>5538432672</title>\n",
       "<polygon fill=\"none\" points=\"10.5068,-.5 10.5068,-44.5 254.0762,-44.5 254.0762,-.5 10.5068,-.5\" stroke=\"#000000\"/>\n",
       "<text fill=\"#000000\" font-family=\"Times,serif\" font-size=\"14.00\" text-anchor=\"middle\" x=\"62.6328\" y=\"-18.3\">dense_2: Dense</text>\n",
       "<polyline fill=\"none\" points=\"114.7588,-.5 114.7588,-44.5 \" stroke=\"#000000\"/>\n",
       "<text fill=\"#000000\" font-family=\"Times,serif\" font-size=\"14.00\" text-anchor=\"middle\" x=\"142.5933\" y=\"-29.3\">input:</text>\n",
       "<polyline fill=\"none\" points=\"114.7588,-22.5 170.4277,-22.5 \" stroke=\"#000000\"/>\n",
       "<text fill=\"#000000\" font-family=\"Times,serif\" font-size=\"14.00\" text-anchor=\"middle\" x=\"142.5933\" y=\"-7.3\">output:</text>\n",
       "<polyline fill=\"none\" points=\"170.4277,-.5 170.4277,-44.5 \" stroke=\"#000000\"/>\n",
       "<text fill=\"#000000\" font-family=\"Times,serif\" font-size=\"14.00\" text-anchor=\"middle\" x=\"212.252\" y=\"-29.3\">(None, 128)</text>\n",
       "<polyline fill=\"none\" points=\"170.4277,-22.5 254.0762,-22.5 \" stroke=\"#000000\"/>\n",
       "<text fill=\"#000000\" font-family=\"Times,serif\" font-size=\"14.00\" text-anchor=\"middle\" x=\"212.252\" y=\"-7.3\">(None, 10)</text>\n",
       "</g>\n",
       "<!-- 5538432056&#45;&gt;5538432672 -->\n",
       "<g class=\"edge\" id=\"edge3\">\n",
       "<title>5538432056-&gt;5538432672</title>\n",
       "<path d=\"M132.2915,-81.3664C132.2915,-73.1516 132.2915,-63.6579 132.2915,-54.7252\" fill=\"none\" stroke=\"#000000\"/>\n",
       "<polygon fill=\"#000000\" points=\"135.7916,-54.6068 132.2915,-44.6068 128.7916,-54.6069 135.7916,-54.6068\" stroke=\"#000000\"/>\n",
       "</g>\n",
       "<!-- 5538433176 -->\n",
       "<g class=\"node\" id=\"node4\">\n",
       "<title>5538433176</title>\n",
       "<polygon fill=\"none\" points=\"89.2915,-243.5 89.2915,-279.5 175.2915,-279.5 175.2915,-243.5 89.2915,-243.5\" stroke=\"#000000\"/>\n",
       "<text fill=\"#000000\" font-family=\"Times,serif\" font-size=\"14.00\" text-anchor=\"middle\" x=\"132.2915\" y=\"-257.3\">5538433176</text>\n",
       "</g>\n",
       "<!-- 5538433176&#45;&gt;5538431944 -->\n",
       "<g class=\"edge\" id=\"edge1\">\n",
       "<title>5538433176-&gt;5538431944</title>\n",
       "<path d=\"M132.2915,-243.2521C132.2915,-235.3888 132.2915,-225.9498 132.2915,-216.9612\" fill=\"none\" stroke=\"#000000\"/>\n",
       "<polygon fill=\"#000000\" points=\"135.7916,-216.7376 132.2915,-206.7377 128.7916,-216.7377 135.7916,-216.7376\" stroke=\"#000000\"/>\n",
       "</g>\n",
       "</g>\n",
       "</svg>"
      ],
      "text/plain": [
       "<IPython.core.display.SVG object>"
      ]
     },
     "execution_count": 7,
     "metadata": {},
     "output_type": "execute_result"
    }
   ],
   "source": [
    "# We can display the model architecture\n",
    "from IPython.display import SVG\n",
    "from keras.utils.vis_utils import model_to_dot\n",
    "SVG(model_to_dot(fc_model, show_shapes=True).create(prog='dot', format='svg'))"
   ]
  },
  {
   "cell_type": "code",
   "execution_count": 20,
   "metadata": {},
   "outputs": [
    {
     "name": "stdout",
     "output_type": "stream",
     "text": [
      "Train on 8000 samples, validate on 2000 samples\n",
      "Epoch 1/5\n",
      "8000/8000 [==============================] - 1s 109us/step - loss: 1.2880e-05 - acc: 1.0000 - val_loss: 0.0027 - val_acc: 0.9990\n",
      "Epoch 2/5\n",
      "8000/8000 [==============================] - 1s 106us/step - loss: 1.1048e-05 - acc: 1.0000 - val_loss: 0.0035 - val_acc: 0.9985\n",
      "Epoch 3/5\n",
      "8000/8000 [==============================] - 1s 110us/step - loss: 9.1030e-06 - acc: 1.0000 - val_loss: 0.0038 - val_acc: 0.9980\n",
      "Epoch 4/5\n",
      "8000/8000 [==============================] - 1s 144us/step - loss: 7.6448e-06 - acc: 1.0000 - val_loss: 0.0048 - val_acc: 0.9980\n",
      "Epoch 5/5\n",
      "8000/8000 [==============================] - 1s 152us/step - loss: 6.5203e-06 - acc: 1.0000 - val_loss: 0.0054 - val_acc: 0.9975\n"
     ]
    }
   ],
   "source": [
    "# We train the model\n",
    "history = fc_model.fit(\n",
    "    x_train, y_train, validation_split=0.2, batch_size=16, epochs=5, verbose=1)  # Not enough training"
   ]
  },
  {
   "cell_type": "code",
   "execution_count": 17,
   "metadata": {},
   "outputs": [
    {
     "name": "stdout",
     "output_type": "stream",
     "text": [
      "10000/10000 [==============================] - 0s 18us/step\n",
      "Test loss: 0.662 Test accuracy: 0.959\n"
     ]
    }
   ],
   "source": [
    "# We evaluate the model performance\n",
    "test_loss, test_acc = fc_model.evaluate(x_test, y_test)\n",
    "print('Test loss: %0.3f' % test_loss, 'Test accuracy: %0.3f' % test_acc)"
   ]
  },
  {
   "cell_type": "code",
   "execution_count": 18,
   "metadata": {},
   "outputs": [
    {
     "data": {
      "image/png": "[encoded data removed]",
      "text/plain": [
       "<Figure size 432x288 with 1 Axes>"
      ]
     },
     "metadata": {
      "needs_background": "light"
     },
     "output_type": "display_data"
    },
    {
     "data": {
      "image/png": "[encoded data removed]",
      "text/plain": [
       "<Figure size 432x288 with 1 Axes>"
      ]
     },
     "metadata": {
      "needs_background": "light"
     },
     "output_type": "display_data"
    }
   ],
   "source": [
    "def plot_training_history(history):\n",
    "    # Plot training & validation accuracy values\n",
    "    plt.plot(history.history['acc'])\n",
    "    plt.plot(history.history['val_acc'])\n",
    "    plt.title('Model accuracy')\n",
    "    plt.ylabel('Accuracy')\n",
    "    plt.xlabel('Epoch')\n",
    "    plt.legend(['Train', 'Test'], loc='upper left')\n",
    "    plt.show()\n",
    "\n",
    "    # Plot training & validation loss values\n",
    "    plt.plot(history.history['loss'])\n",
    "    plt.plot(history.history['val_loss'])\n",
    "    plt.title('Model loss')\n",
    "    plt.ylabel('Loss')\n",
    "    plt.xlabel('Epoch')\n",
    "    plt.legend(['Train', 'Test'], loc='upper left')\n",
    "    plt.show()\n",
    "plot_training_history(history)"
   ]
  }
 ],
 "metadata": {
  "kernelspec": {
   "display_name": "Python 3",
   "language": "python",
   "name": "python3"
  },
  "language_info": {
   "codemirror_mode": {
    "name": "ipython",
    "version": 3
   },
   "file_extension": ".py",
   "mimetype": "text/x-python",
   "name": "python",
   "nbconvert_exporter": "python",
   "pygments_lexer": "ipython3",
   "version": "3.6.5"
  }
 },
 "nbformat": 4,
 "nbformat_minor": 2
}
